{
 "cells": [
  {
   "cell_type": "code",
   "execution_count": 1,
   "metadata": {},
   "outputs": [],
   "source": [
    "import boto3"
   ]
  },
  {
   "cell_type": "code",
   "execution_count": null,
   "id": "1a43c635",
   "metadata": {},
   "outputs": [],
   "source": [
    "runtime = boto3.client('sagemaker-runtime', region_name='eu-central-1')\n",
    "endpoint_name = 'canvas-churn-prediction-deployment'"
   ]
  },
  {
   "cell_type": "code",
   "execution_count": null,
   "id": "07d1bb8b",
   "metadata": {},
   "outputs": [],
   "source": [
    "csv_input = (\n",
    "    \"7590-VHVEG,Female,0,Yes,No,1,No,No phone service,DSL,No,Yes,No,No,No,No,\"\n",
    "    \"Month-to-month,Yes,Electronic check,29.85,29.85\"\n",
    ")"
   ]
  },
  {
   "cell_type": "code",
   "execution_count": 5,
   "id": "69c724ef",
   "metadata": {},
   "outputs": [
    {
     "name": "stdout",
     "output_type": "stream",
     "text": [
      "Inference Result: Yes,0.805496871471405,\"[0.19450312852859497, 0.805496871471405]\",\"['No', 'Yes']\"\n",
      "\n"
     ]
    }
   ],
   "source": [
    "response = runtime.invoke_endpoint(\n",
    "    EndpointName=endpoint_name,\n",
    "    ContentType='text/csv',\n",
    "    Body=csv_input\n",
    ")\n",
    "\n",
    "result = response['Body'].read().decode('utf-8')\n",
    "print(\"Inference Result:\", result)"
   ]
  }
 ],
 "metadata": {
  "kernelspec": {
   "display_name": "Python 3 (ipykernel)",
   "language": "python",
   "name": "python3"
  },
  "language_info": {
   "codemirror_mode": {
    "name": "ipython",
    "version": 3
   },
   "file_extension": ".py",
   "mimetype": "text/x-python",
   "name": "python",
   "nbconvert_exporter": "python",
   "pygments_lexer": "ipython3",
   "version": "3.11.6"
  }
 },
 "nbformat": 4,
 "nbformat_minor": 5
}
